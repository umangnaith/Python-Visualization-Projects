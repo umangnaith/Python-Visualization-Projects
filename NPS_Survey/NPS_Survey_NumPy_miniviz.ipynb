{
 "cells": [
  {
   "cell_type": "markdown",
   "id": "020831d0",
   "metadata": {},
   "source": [
    "# NPS (Net Promoter Score)"
   ]
  },
  {
   "cell_type": "markdown",
   "id": "b63f7f78",
   "metadata": {},
   "source": [
    "You've been asked to analyze user survey data and report NPS to the management."
   ]
  },
  {
   "cell_type": "markdown",
   "id": "c5e63383",
   "metadata": {},
   "source": [
    "Customers are given to fill a ratings form. Responses are given a scale ranging from 0–10,\n",
    "with 0 labeled with “Not at all likely,” and\n",
    "10 labeled with “Extremely likely.”\n",
    "Based on this, we calculate the **Net Promoter Score**."
   ]
  },
  {
   "cell_type": "markdown",
   "id": "c44ef2a4",
   "metadata": {},
   "source": [
    "**How to calculate NPS score?**\n",
    "- Detractors: Respondents with a score of 0-6\n",
    "- Passive: Respondents with a score of 7-8\n",
    "- Promoters: Respondents with a score of 9-10."
   ]
  },
  {
   "cell_type": "markdown",
   "id": "1e99eca8",
   "metadata": {},
   "source": [
    "**Net Promoter score = % Promoters - % Detractors**"
   ]
  },
  {
   "cell_type": "markdown",
   "id": "d9fe5e9a",
   "metadata": {},
   "source": [
    "Range of NPS\n",
    "- If all people are promoters (rated 9-10), we get  100  NPS\n",
    "- Conversely, if all people are detractors (rated 0-6), we get  −100  NPS\n",
    "- Also, if all people are neutral (rated 7-8), we get a  0  NPS\n",
    "\n",
    "Therefore, the range of NPS lies between  [−100,100]"
   ]
  },
  {
   "cell_type": "code",
   "execution_count": 1,
   "id": "739cc6ad",
   "metadata": {},
   "outputs": [],
   "source": [
    "#To import the numpy library in out notebook\n",
    "import numpy as np\n",
    "import matplotlib.pyplot as plt"
   ]
  },
  {
   "cell_type": "markdown",
   "id": "8214eeb5",
   "metadata": {},
   "source": [
    "To load the dataset in the notebook we use np.loadtxt"
   ]
  },
  {
   "cell_type": "code",
   "execution_count": 2,
   "id": "1d7f012a",
   "metadata": {},
   "outputs": [
    {
     "name": "stdout",
     "output_type": "stream",
     "text": [
      "[ 7 10  5 ...  5  9 10]\n"
     ]
    }
   ],
   "source": [
    "score = np.loadtxt('survey.txt',dtype='int') \n",
    "print(score)"
   ]
  },
  {
   "cell_type": "code",
   "execution_count": 3,
   "id": "d48da695",
   "metadata": {},
   "outputs": [
    {
     "data": {
      "text/plain": [
       "numpy.ndarray"
      ]
     },
     "execution_count": 3,
     "metadata": {},
     "output_type": "execute_result"
    }
   ],
   "source": [
    "type(score)"
   ]
  },
  {
   "cell_type": "code",
   "execution_count": 4,
   "id": "b6b32a16",
   "metadata": {},
   "outputs": [
    {
     "data": {
      "text/plain": [
       "array([ 7, 10,  5,  9,  9])"
      ]
     },
     "execution_count": 4,
     "metadata": {},
     "output_type": "execute_result"
    }
   ],
   "source": [
    "score[:5]"
   ]
  },
  {
   "cell_type": "code",
   "execution_count": 5,
   "id": "18c26456",
   "metadata": {},
   "outputs": [
    {
     "data": {
      "text/plain": [
       "(1167,)"
      ]
     },
     "execution_count": 5,
     "metadata": {},
     "output_type": "execute_result"
    }
   ],
   "source": [
    "score.shape"
   ]
  },
  {
   "cell_type": "markdown",
   "id": "0a62c8f9",
   "metadata": {},
   "source": [
    "There are a total of 1167 responses\n",
    "\n",
    "Let's get the count of promoter and detractors -\n",
    "\n",
    "Detractors have a score <= 6"
   ]
  },
  {
   "cell_type": "code",
   "execution_count": 6,
   "id": "7e4f8d66",
   "metadata": {},
   "outputs": [],
   "source": [
    "detractors=score[score <= 6]"
   ]
  },
  {
   "cell_type": "code",
   "execution_count": 7,
   "id": "66954c43",
   "metadata": {},
   "outputs": [
    {
     "data": {
      "text/plain": [
       "332"
      ]
     },
     "execution_count": 7,
     "metadata": {},
     "output_type": "execute_result"
    }
   ],
   "source": [
    "# Number of detractors -\n",
    "\n",
    "num_detractors = len(detractors)\n",
    "num_detractors"
   ]
  },
  {
   "cell_type": "markdown",
   "id": "4e87a9af",
   "metadata": {},
   "source": [
    "Promoters have a score >= 9"
   ]
  },
  {
   "cell_type": "code",
   "execution_count": 8,
   "id": "6e58a516",
   "metadata": {},
   "outputs": [],
   "source": [
    "promoters =score[score >= 9]"
   ]
  },
  {
   "cell_type": "code",
   "execution_count": 9,
   "id": "18bbdba0",
   "metadata": {},
   "outputs": [
    {
     "data": {
      "text/plain": [
       "609"
      ]
     },
     "execution_count": 9,
     "metadata": {},
     "output_type": "execute_result"
    }
   ],
   "source": [
    "# Number of promoters -\n",
    "\n",
    "num_promoters = len(promoters)\n",
    "num_promoters"
   ]
  },
  {
   "cell_type": "code",
   "execution_count": 10,
   "id": "1c7ab486",
   "metadata": {},
   "outputs": [
    {
     "data": {
      "text/plain": [
       "1167"
      ]
     },
     "execution_count": 10,
     "metadata": {},
     "output_type": "execute_result"
    }
   ],
   "source": [
    "total = len(score)\n",
    "total"
   ]
  },
  {
   "cell_type": "code",
   "execution_count": 11,
   "id": "075a8597",
   "metadata": {},
   "outputs": [
    {
     "data": {
      "text/plain": [
       "226"
      ]
     },
     "execution_count": 11,
     "metadata": {},
     "output_type": "execute_result"
    }
   ],
   "source": [
    "# Number of passive\n",
    "#num_passive = total - (num_promoters + num_detractors)\n",
    "passive = score[(score >= 7) & (score <= 8)]\n",
    "num_passive= len(passive)\n",
    "num_passive"
   ]
  },
  {
   "cell_type": "code",
   "execution_count": 12,
   "id": "e4d0bc38",
   "metadata": {},
   "outputs": [
    {
     "data": {
      "text/plain": [
       "28.45"
      ]
     },
     "execution_count": 12,
     "metadata": {},
     "output_type": "execute_result"
    }
   ],
   "source": [
    "# % of detractors -\n",
    "\n",
    "percentage_detractors = round((num_detractors/total) * 100,2)\n",
    "percentage_detractors"
   ]
  },
  {
   "cell_type": "code",
   "execution_count": 13,
   "id": "c3996a3a",
   "metadata": {},
   "outputs": [
    {
     "data": {
      "text/plain": [
       "52.19"
      ]
     },
     "execution_count": 13,
     "metadata": {},
     "output_type": "execute_result"
    }
   ],
   "source": [
    "# % of promoters -\n",
    "\n",
    "percentage_promoters = round((num_promoters/total) * 100 ,2)\n",
    "percentage_promoters"
   ]
  },
  {
   "cell_type": "code",
   "execution_count": 14,
   "id": "dd47a8be",
   "metadata": {},
   "outputs": [
    {
     "data": {
      "text/plain": [
       "19.37"
      ]
     },
     "execution_count": 14,
     "metadata": {},
     "output_type": "execute_result"
    }
   ],
   "source": [
    "percentage_passive = round((num_passive/total)* 100,2)\n",
    "percentage_passive"
   ]
  },
  {
   "cell_type": "code",
   "execution_count": 15,
   "id": "5437dac8",
   "metadata": {},
   "outputs": [
    {
     "data": {
      "text/plain": [
       "23.74"
      ]
     },
     "execution_count": 15,
     "metadata": {},
     "output_type": "execute_result"
    }
   ],
   "source": [
    "nps = percentage_promoters - percentage_detractors\n",
    "nps"
   ]
  },
  {
   "cell_type": "code",
   "execution_count": 23,
   "id": "dc8d54a2",
   "metadata": {},
   "outputs": [
    {
     "data": {
      "image/png": "[encoded data removed]",
      "text/plain": [
       "<Figure size 600x600 with 1 Axes>"
      ]
     },
     "metadata": {},
     "output_type": "display_data"
    }
   ],
   "source": [
    "values = [percentage_promoters, percentage_detractors, percentage_passive]\n",
    "labels = ['Promoter %', 'Detractor %', 'Passive %']\n",
    "\n",
    "\n",
    "# Plotting the pie chart\n",
    "plt.figure(figsize=(6, 6))\n",
    "plt.pie(values, labels=labels, autopct='%1.1f%%', startangle=140)\n",
    "plt.title(f'Distribution of Values (NPS: {nps})')\n",
    "plt.show()  "
   ]
  },
  {
   "cell_type": "code",
   "execution_count": null,
   "id": "eeac39fa",
   "metadata": {},
   "outputs": [],
   "source": []
  }
 ],
 "metadata": {
  "kernelspec": {
   "display_name": "Python 3 (ipykernel)",
   "language": "python",
   "name": "python3"
  },
  "language_info": {
   "codemirror_mode": {
    "name": "ipython",
    "version": 3
   },
   "file_extension": ".py",
   "mimetype": "text/x-python",
   "name": "python",
   "nbconvert_exporter": "python",
   "pygments_lexer": "ipython3",
   "version": "3.9.13"
  }
 },
 "nbformat": 4,
 "nbformat_minor": 5
}
